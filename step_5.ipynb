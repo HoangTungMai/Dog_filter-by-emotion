{
 "cells": [
  {
   "cell_type": "code",
   "execution_count": 39,
   "metadata": {},
   "outputs": [],
   "source": [
    "import numpy as np"
   ]
  },
  {
   "cell_type": "code",
   "execution_count": 40,
   "metadata": {},
   "outputs": [],
   "source": [
    "def evaluate(A, Y, w):\n",
    "    Yhat = np.argmax(A.dot(w), axis=1)\n",
    "    print('Y_hat = ', Yhat)\n",
    "    print('Y_train = ', Y)\n",
    "    return np.sum(Yhat == Y) / Y.shape[0]"
   ]
  },
  {
   "cell_type": "code",
   "execution_count": 41,
   "metadata": {},
   "outputs": [],
   "source": [
    "# load data\n",
    "with np.load('data/fer2013_train.npz') as data:\n",
    "    X_train, Y_train = data['X'], data['Y']\n",
    "\n",
    "with np.load('data/fer2013_test.npz') as data:\n",
    "    X_test, Y_test = data['X'], data['Y']"
   ]
  },
  {
   "cell_type": "code",
   "execution_count": 42,
   "metadata": {},
   "outputs": [
    {
     "name": "stdout",
     "output_type": "stream",
     "text": [
      "[[ 24  32  36 ... 142 143 142]\n",
      " [ 20  17  19 ...  99 107 118]\n",
      " [ 77  78  79 ... 125  67  68]\n",
      " ...\n",
      " [190 222 233 ... 174 175 175]\n",
      " [ 88  83  82 ... 194 191 175]\n",
      " [254 247 208 ... 254 253 254]]\n"
     ]
    }
   ],
   "source": [
    "print(X_train)"
   ]
  },
  {
   "cell_type": "code",
   "execution_count": 43,
   "metadata": {},
   "outputs": [],
   "source": [
    "# one-hot labels\n",
    "I = np.eye(3)\n",
    "Y_oh_train, Y_oh_test = I[Y_train], I[Y_test]"
   ]
  },
  {
   "cell_type": "code",
   "execution_count": 44,
   "metadata": {},
   "outputs": [
    {
     "name": "stdout",
     "output_type": "stream",
     "text": [
      "[[1. 0. 0.]\n",
      " [0. 1. 0.]\n",
      " [0. 0. 1.]]\n"
     ]
    }
   ],
   "source": [
    "print(I)"
   ]
  },
  {
   "cell_type": "code",
   "execution_count": 71,
   "metadata": {},
   "outputs": [],
   "source": [
    "d = 500\n",
    "W = np.random.normal(size=(X_train.shape[1], d))\n",
    "# select first 100 dimensions\n",
    "A_train, A_test = X_train.dot(W), X_test.dot(W)"
   ]
  },
  {
   "cell_type": "code",
   "execution_count": 72,
   "metadata": {},
   "outputs": [],
   "source": [
    "# train model\n",
    "w = np.linalg.inv(A_train.T.dot(A_train)).dot(A_train.T.dot(Y_oh_train))"
   ]
  },
  {
   "cell_type": "code",
   "execution_count": 73,
   "metadata": {},
   "outputs": [
    {
     "name": "stdout",
     "output_type": "stream",
     "text": [
      "Y_hat =  [0 0 0 ... 2 0 2]\n",
      "Y_train =  [1 1 0 ... 2 1 2]\n",
      "(ols) Train Accuracy: 0.6425199947554739\n",
      "Y_hat =  [0 1 0 ... 0 0 1]\n",
      "Y_train =  [1 1 0 ... 0 0 0]\n",
      "(ols) Test Accuracy: 0.6157880933648047\n"
     ]
    }
   ],
   "source": [
    "# evaluate model\n",
    "ols_train_accuracy = evaluate(A_train, Y_train, w)\n",
    "print('(ols) Train Accuracy:', ols_train_accuracy)\n",
    "ols_test_accuracy = evaluate(A_test, Y_test, w)\n",
    "print('(ols) Test Accuracy:', ols_test_accuracy)"
   ]
  }
 ],
 "metadata": {
  "kernelspec": {
   "display_name": "Python 3",
   "language": "python",
   "name": "python3"
  },
  "language_info": {
   "codemirror_mode": {
    "name": "ipython",
    "version": 3
   },
   "file_extension": ".py",
   "mimetype": "text/x-python",
   "name": "python",
   "nbconvert_exporter": "python",
   "pygments_lexer": "ipython3",
   "version": "3.10.10"
  }
 },
 "nbformat": 4,
 "nbformat_minor": 2
}
